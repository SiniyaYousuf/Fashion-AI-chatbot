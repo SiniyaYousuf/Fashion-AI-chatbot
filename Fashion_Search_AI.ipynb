{
  "nbformat": 4,
  "nbformat_minor": 0,
  "metadata": {
    "colab": {
      "provenance": []
    },
    "kernelspec": {
      "name": "python3",
      "display_name": "Python 3"
    },
    "language_info": {
      "name": "python"
    }
  },
  "cells": [
    {
      "cell_type": "markdown",
      "source": [
        "## **HelpMate AI project**(Fashion AI Chatbot)"
      ],
      "metadata": {
        "id": "xHQgh9t1J9qV"
      }
    },
    {
      "cell_type": "markdown",
      "source": [
        "This project builds an AI-powered fashion search system using LangChain to enable intelligent, natural language-based product discovery. By leveraging Retrieval-Augmented Generation (RAG), vector search, and LLM-based query processing, the system searches through a vast collection of fashion product descriptions and recommends the most relevant choices. The Myntra dataset from Kaggle serves as the primary data source."
      ],
      "metadata": {
        "id": "cL4qc3UtNJZ2"
      }
    },
    {
      "cell_type": "markdown",
      "source": [
        "1.**Data Collection & Preprocessing**\n",
        "\n",
        "Load the Myntra dataset (CSV format) using LangChain's CSVLoader.\n",
        "\n",
        "Clean missing values, normalize text fields (brand names, colors, descriptions).\n",
        "\n",
        "2.**Text Embedding & Vectorization (LangChain + FAISS/ChromaDB)**\n",
        "\n",
        "Use LangChain's OpenAIEmbeddings to convert product descriptions into embeddings.\n",
        "\n",
        "Store embeddings in a vector database (FAISS or ChromaDB) for fast retrieval.\n",
        "\n",
        "3.**Retrieval-Augmented Generation (RAG) for Fashion Search**\n",
        "\n",
        "Implement semantic search using LangChain’s VectorStoreRetriever.\n",
        "\n",
        "Retrieve similar product descriptions based on user queries.\n",
        "\n",
        "4.**LLM-based Query Processing with LangChain**\n",
        "\n",
        "Use LangChain’s LLMChain to refine and interpret user queries.\n",
        "\n",
        "Convert user-friendly queries into structured search parameters.\n",
        "\n",
        "5.**Search & Ranking Mechanism**\n",
        "\n",
        "Retrieve top-ranked product matches using cosine similarity.\n",
        "\n",
        "Apply LangChain’s prompt templates to generate search explanations.\n",
        "\n",
        "6.**Conversational Agent for Interactive Search**\n",
        "\n",
        "Integrate LangChain’s ConversationalRetrievalChain to allow follow-up queries.\n",
        "\n",
        "Maintain context: Users can refine searches dynamically (e.g., “Show more similar options”)."
      ],
      "metadata": {
        "id": "GmMRs-PfNhN7"
      }
    },
    {
      "cell_type": "markdown",
      "source": [
        "# **Instructions for running:**\n",
        "\n",
        "1. Use Myntra Dataset [Myntra dataset](https://www.kaggle.com/datasets/djagatiya/myntra-fashion-product-dataset) .\n",
        "\n",
        "2. Use openAI API key"
      ],
      "metadata": {
        "id": "hP23cgRsmUMR"
      }
    },
    {
      "cell_type": "code",
      "source": [
        "#Installing and Import necessary libraries"
      ],
      "metadata": {
        "id": "2Nh_t54RMVRe"
      },
      "execution_count": 6,
      "outputs": []
    },
    {
      "cell_type": "code",
      "source": [
        "!pip install -q openai langchain chromadb faiss-cpu pypdf tiktoken docarray"
      ],
      "metadata": {
        "colab": {
          "base_uri": "https://localhost:8080/"
        },
        "id": "E4SxJ2O4QOk7",
        "outputId": "f5d5cbcb-1348-4df1-f5f3-77d07a506413"
      },
      "execution_count": 1,
      "outputs": [
        {
          "output_type": "stream",
          "name": "stdout",
          "text": [
            "\u001b[?25l     \u001b[90m━━━━━━━━━━━━━━━━━━━━━━━━━━━━━━━━━━━━━━━━\u001b[0m \u001b[32m0.0/67.3 kB\u001b[0m \u001b[31m?\u001b[0m eta \u001b[36m-:--:--\u001b[0m\r\u001b[2K     \u001b[90m━━━━━━━━━━━━━━━━━━━━━━━━━━━━━━━━━━━━━━━━\u001b[0m \u001b[32m67.3/67.3 kB\u001b[0m \u001b[31m1.9 MB/s\u001b[0m eta \u001b[36m0:00:00\u001b[0m\n",
            "\u001b[?25h  Installing build dependencies ... \u001b[?25l\u001b[?25hdone\n",
            "  Getting requirements to build wheel ... \u001b[?25l\u001b[?25hdone\n",
            "  Preparing metadata (pyproject.toml) ... \u001b[?25l\u001b[?25hdone\n",
            "\u001b[2K   \u001b[90m━━━━━━━━━━━━━━━━━━━━━━━━━━━━━━━━━━━━━━━━\u001b[0m \u001b[32m611.1/611.1 kB\u001b[0m \u001b[31m16.3 MB/s\u001b[0m eta \u001b[36m0:00:00\u001b[0m\n",
            "\u001b[2K   \u001b[90m━━━━━━━━━━━━━━━━━━━━━━━━━━━━━━━━━━━━━━━━\u001b[0m \u001b[32m2.4/2.4 MB\u001b[0m \u001b[31m45.7 MB/s\u001b[0m eta \u001b[36m0:00:00\u001b[0m\n",
            "\u001b[2K   \u001b[90m━━━━━━━━━━━━━━━━━━━━━━━━━━━━━━━━━━━━━━━━\u001b[0m \u001b[32m30.7/30.7 MB\u001b[0m \u001b[31m37.3 MB/s\u001b[0m eta \u001b[36m0:00:00\u001b[0m\n",
            "\u001b[2K   \u001b[90m━━━━━━━━━━━━━━━━━━━━━━━━━━━━━━━━━━━━━━━━\u001b[0m \u001b[32m302.3/302.3 kB\u001b[0m \u001b[31m20.9 MB/s\u001b[0m eta \u001b[36m0:00:00\u001b[0m\n",
            "\u001b[2K   \u001b[90m━━━━━━━━━━━━━━━━━━━━━━━━━━━━━━━━━━━━━━━━\u001b[0m \u001b[32m1.2/1.2 MB\u001b[0m \u001b[31m50.7 MB/s\u001b[0m eta \u001b[36m0:00:00\u001b[0m\n",
            "\u001b[2K   \u001b[90m━━━━━━━━━━━━━━━━━━━━━━━━━━━━━━━━━━━━━━━━\u001b[0m \u001b[32m302.8/302.8 kB\u001b[0m \u001b[31m20.2 MB/s\u001b[0m eta \u001b[36m0:00:00\u001b[0m\n",
            "\u001b[2K   \u001b[90m━━━━━━━━━━━━━━━━━━━━━━━━━━━━━━━━━━━━━━━━\u001b[0m \u001b[32m284.2/284.2 kB\u001b[0m \u001b[31m20.5 MB/s\u001b[0m eta \u001b[36m0:00:00\u001b[0m\n",
            "\u001b[2K   \u001b[90m━━━━━━━━━━━━━━━━━━━━━━━━━━━━━━━━━━━━━━━━\u001b[0m \u001b[32m95.2/95.2 kB\u001b[0m \u001b[31m7.6 MB/s\u001b[0m eta \u001b[36m0:00:00\u001b[0m\n",
            "\u001b[2K   \u001b[90m━━━━━━━━━━━━━━━━━━━━━━━━━━━━━━━━━━━━━━━━\u001b[0m \u001b[32m2.0/2.0 MB\u001b[0m \u001b[31m69.0 MB/s\u001b[0m eta \u001b[36m0:00:00\u001b[0m\n",
            "\u001b[2K   \u001b[90m━━━━━━━━━━━━━━━━━━━━━━━━━━━━━━━━━━━━━━━━\u001b[0m \u001b[32m101.6/101.6 kB\u001b[0m \u001b[31m7.8 MB/s\u001b[0m eta \u001b[36m0:00:00\u001b[0m\n",
            "\u001b[2K   \u001b[90m━━━━━━━━━━━━━━━━━━━━━━━━━━━━━━━━━━━━━━━━\u001b[0m \u001b[32m16.0/16.0 MB\u001b[0m \u001b[31m66.8 MB/s\u001b[0m eta \u001b[36m0:00:00\u001b[0m\n",
            "\u001b[2K   \u001b[90m━━━━━━━━━━━━━━━━━━━━━━━━━━━━━━━━━━━━━━━━\u001b[0m \u001b[32m55.9/55.9 kB\u001b[0m \u001b[31m3.6 MB/s\u001b[0m eta \u001b[36m0:00:00\u001b[0m\n",
            "\u001b[2K   \u001b[90m━━━━━━━━━━━━━━━━━━━━━━━━━━━━━━━━━━━━━━━━\u001b[0m \u001b[32m183.4/183.4 kB\u001b[0m \u001b[31m14.9 MB/s\u001b[0m eta \u001b[36m0:00:00\u001b[0m\n",
            "\u001b[2K   \u001b[90m━━━━━━━━━━━━━━━━━━━━━━━━━━━━━━━━━━━━━━━━\u001b[0m \u001b[32m65.2/65.2 kB\u001b[0m \u001b[31m4.4 MB/s\u001b[0m eta \u001b[36m0:00:00\u001b[0m\n",
            "\u001b[2K   \u001b[90m━━━━━━━━━━━━━━━━━━━━━━━━━━━━━━━━━━━━━━━━\u001b[0m \u001b[32m118.9/118.9 kB\u001b[0m \u001b[31m8.3 MB/s\u001b[0m eta \u001b[36m0:00:00\u001b[0m\n",
            "\u001b[2K   \u001b[90m━━━━━━━━━━━━━━━━━━━━━━━━━━━━━━━━━━━━━━━━\u001b[0m \u001b[32m79.6/79.6 kB\u001b[0m \u001b[31m5.5 MB/s\u001b[0m eta \u001b[36m0:00:00\u001b[0m\n",
            "\u001b[2K   \u001b[90m━━━━━━━━━━━━━━━━━━━━━━━━━━━━━━━━━━━━━━━━\u001b[0m \u001b[32m62.3/62.3 kB\u001b[0m \u001b[31m4.7 MB/s\u001b[0m eta \u001b[36m0:00:00\u001b[0m\n",
            "\u001b[2K   \u001b[90m━━━━━━━━━━━━━━━━━━━━━━━━━━━━━━━━━━━━━━━━\u001b[0m \u001b[32m459.8/459.8 kB\u001b[0m \u001b[31m27.7 MB/s\u001b[0m eta \u001b[36m0:00:00\u001b[0m\n",
            "\u001b[2K   \u001b[90m━━━━━━━━━━━━━━━━━━━━━━━━━━━━━━━━━━━━━━━━\u001b[0m \u001b[32m72.0/72.0 kB\u001b[0m \u001b[31m5.5 MB/s\u001b[0m eta \u001b[36m0:00:00\u001b[0m\n",
            "\u001b[2K   \u001b[90m━━━━━━━━━━━━━━━━━━━━━━━━━━━━━━━━━━━━━━━━\u001b[0m \u001b[32m4.0/4.0 MB\u001b[0m \u001b[31m67.4 MB/s\u001b[0m eta \u001b[36m0:00:00\u001b[0m\n",
            "\u001b[2K   \u001b[90m━━━━━━━━━━━━━━━━━━━━━━━━━━━━━━━━━━━━━━━━\u001b[0m \u001b[32m452.6/452.6 kB\u001b[0m \u001b[31m25.5 MB/s\u001b[0m eta \u001b[36m0:00:00\u001b[0m\n",
            "\u001b[2K   \u001b[90m━━━━━━━━━━━━━━━━━━━━━━━━━━━━━━━━━━━━━━━━\u001b[0m \u001b[32m46.0/46.0 kB\u001b[0m \u001b[31m2.7 MB/s\u001b[0m eta \u001b[36m0:00:00\u001b[0m\n",
            "\u001b[2K   \u001b[90m━━━━━━━━━━━━━━━━━━━━━━━━━━━━━━━━━━━━━━━━\u001b[0m \u001b[32m86.8/86.8 kB\u001b[0m \u001b[31m5.7 MB/s\u001b[0m eta \u001b[36m0:00:00\u001b[0m\n",
            "\u001b[?25h  Building wheel for pypika (pyproject.toml) ... \u001b[?25l\u001b[?25hdone\n"
          ]
        }
      ]
    },
    {
      "cell_type": "code",
      "source": [
        "from google.colab import drive\n",
        "drive.mount('/content/drive')"
      ],
      "metadata": {
        "colab": {
          "base_uri": "https://localhost:8080/"
        },
        "id": "RAp9E18AQVNq",
        "outputId": "4ad81410-fe17-40e8-fc9f-18313738f451"
      },
      "execution_count": 2,
      "outputs": [
        {
          "output_type": "stream",
          "name": "stdout",
          "text": [
            "Mounted at /content/drive\n"
          ]
        }
      ]
    },
    {
      "cell_type": "code",
      "source": [
        "import os\n",
        "import openai\n",
        "os.chdir('/content/drive/MyDrive/Chatcompletion API docs')\n",
        "openai.api_key = open(\"OPenAI key.txt\", \"r\").read().strip()\n",
        "os.environ['OPENAI_API_KEY'] = openai.api_key"
      ],
      "metadata": {
        "id": "DyS_QIbGQbuu"
      },
      "execution_count": 3,
      "outputs": []
    },
    {
      "cell_type": "code",
      "source": [
        "\n",
        "!pip install -q langchain-openai\n",
        "!pip install -U langchain-community\n"
      ],
      "metadata": {
        "colab": {
          "base_uri": "https://localhost:8080/"
        },
        "id": "K3autOtzPsov",
        "outputId": "969bd4a1-3ae9-450a-b14b-b7504ab44ea5"
      },
      "execution_count": 4,
      "outputs": [
        {
          "output_type": "stream",
          "name": "stdout",
          "text": [
            "\u001b[?25l   \u001b[90m━━━━━━━━━━━━━━━━━━━━━━━━━━━━━━━━━━━━━━━━\u001b[0m \u001b[32m0.0/60.9 kB\u001b[0m \u001b[31m?\u001b[0m eta \u001b[36m-:--:--\u001b[0m\r\u001b[2K   \u001b[90m━━━━━━━━━━━━━━━━━━━━━━━━━━━━━━━━━━━━━━━━\u001b[0m \u001b[32m60.9/60.9 kB\u001b[0m \u001b[31m2.8 MB/s\u001b[0m eta \u001b[36m0:00:00\u001b[0m\n",
            "\u001b[?25hCollecting langchain-community\n",
            "  Downloading langchain_community-0.3.20-py3-none-any.whl.metadata (2.4 kB)\n",
            "Requirement already satisfied: langchain-core<1.0.0,>=0.3.45 in /usr/local/lib/python3.11/dist-packages (from langchain-community) (0.3.45)\n",
            "Collecting langchain<1.0.0,>=0.3.21 (from langchain-community)\n",
            "  Downloading langchain-0.3.21-py3-none-any.whl.metadata (7.8 kB)\n",
            "Requirement already satisfied: SQLAlchemy<3,>=1.4 in /usr/local/lib/python3.11/dist-packages (from langchain-community) (2.0.39)\n",
            "Requirement already satisfied: requests<3,>=2 in /usr/local/lib/python3.11/dist-packages (from langchain-community) (2.32.3)\n",
            "Requirement already satisfied: PyYAML>=5.3 in /usr/local/lib/python3.11/dist-packages (from langchain-community) (6.0.2)\n",
            "Requirement already satisfied: aiohttp<4.0.0,>=3.8.3 in /usr/local/lib/python3.11/dist-packages (from langchain-community) (3.11.14)\n",
            "Requirement already satisfied: tenacity!=8.4.0,<10,>=8.1.0 in /usr/local/lib/python3.11/dist-packages (from langchain-community) (9.0.0)\n",
            "Collecting dataclasses-json<0.7,>=0.5.7 (from langchain-community)\n",
            "  Downloading dataclasses_json-0.6.7-py3-none-any.whl.metadata (25 kB)\n",
            "Collecting pydantic-settings<3.0.0,>=2.4.0 (from langchain-community)\n",
            "  Downloading pydantic_settings-2.8.1-py3-none-any.whl.metadata (3.5 kB)\n",
            "Requirement already satisfied: langsmith<0.4,>=0.1.125 in /usr/local/lib/python3.11/dist-packages (from langchain-community) (0.3.15)\n",
            "Collecting httpx-sse<1.0.0,>=0.4.0 (from langchain-community)\n",
            "  Downloading httpx_sse-0.4.0-py3-none-any.whl.metadata (9.0 kB)\n",
            "Requirement already satisfied: numpy<3,>=1.26.2 in /usr/local/lib/python3.11/dist-packages (from langchain-community) (2.0.2)\n",
            "Requirement already satisfied: aiohappyeyeballs>=2.3.0 in /usr/local/lib/python3.11/dist-packages (from aiohttp<4.0.0,>=3.8.3->langchain-community) (2.6.1)\n",
            "Requirement already satisfied: aiosignal>=1.1.2 in /usr/local/lib/python3.11/dist-packages (from aiohttp<4.0.0,>=3.8.3->langchain-community) (1.3.2)\n",
            "Requirement already satisfied: attrs>=17.3.0 in /usr/local/lib/python3.11/dist-packages (from aiohttp<4.0.0,>=3.8.3->langchain-community) (25.3.0)\n",
            "Requirement already satisfied: frozenlist>=1.1.1 in /usr/local/lib/python3.11/dist-packages (from aiohttp<4.0.0,>=3.8.3->langchain-community) (1.5.0)\n",
            "Requirement already satisfied: multidict<7.0,>=4.5 in /usr/local/lib/python3.11/dist-packages (from aiohttp<4.0.0,>=3.8.3->langchain-community) (6.2.0)\n",
            "Requirement already satisfied: propcache>=0.2.0 in /usr/local/lib/python3.11/dist-packages (from aiohttp<4.0.0,>=3.8.3->langchain-community) (0.3.0)\n",
            "Requirement already satisfied: yarl<2.0,>=1.17.0 in /usr/local/lib/python3.11/dist-packages (from aiohttp<4.0.0,>=3.8.3->langchain-community) (1.18.3)\n",
            "Collecting marshmallow<4.0.0,>=3.18.0 (from dataclasses-json<0.7,>=0.5.7->langchain-community)\n",
            "  Downloading marshmallow-3.26.1-py3-none-any.whl.metadata (7.3 kB)\n",
            "Requirement already satisfied: typing-inspect<1,>=0.4.0 in /usr/local/lib/python3.11/dist-packages (from dataclasses-json<0.7,>=0.5.7->langchain-community) (0.9.0)\n",
            "Collecting langchain-text-splitters<1.0.0,>=0.3.7 (from langchain<1.0.0,>=0.3.21->langchain-community)\n",
            "  Downloading langchain_text_splitters-0.3.7-py3-none-any.whl.metadata (1.9 kB)\n",
            "Requirement already satisfied: pydantic<3.0.0,>=2.7.4 in /usr/local/lib/python3.11/dist-packages (from langchain<1.0.0,>=0.3.21->langchain-community) (2.10.6)\n",
            "Requirement already satisfied: jsonpatch<2.0,>=1.33 in /usr/local/lib/python3.11/dist-packages (from langchain-core<1.0.0,>=0.3.45->langchain-community) (1.33)\n",
            "Requirement already satisfied: packaging<25,>=23.2 in /usr/local/lib/python3.11/dist-packages (from langchain-core<1.0.0,>=0.3.45->langchain-community) (24.2)\n",
            "Requirement already satisfied: typing-extensions>=4.7 in /usr/local/lib/python3.11/dist-packages (from langchain-core<1.0.0,>=0.3.45->langchain-community) (4.12.2)\n",
            "Requirement already satisfied: httpx<1,>=0.23.0 in /usr/local/lib/python3.11/dist-packages (from langsmith<0.4,>=0.1.125->langchain-community) (0.28.1)\n",
            "Requirement already satisfied: orjson<4.0.0,>=3.9.14 in /usr/local/lib/python3.11/dist-packages (from langsmith<0.4,>=0.1.125->langchain-community) (3.10.15)\n",
            "Requirement already satisfied: requests-toolbelt<2.0.0,>=1.0.0 in /usr/local/lib/python3.11/dist-packages (from langsmith<0.4,>=0.1.125->langchain-community) (1.0.0)\n",
            "Requirement already satisfied: zstandard<0.24.0,>=0.23.0 in /usr/local/lib/python3.11/dist-packages (from langsmith<0.4,>=0.1.125->langchain-community) (0.23.0)\n",
            "Requirement already satisfied: python-dotenv>=0.21.0 in /usr/local/lib/python3.11/dist-packages (from pydantic-settings<3.0.0,>=2.4.0->langchain-community) (1.0.1)\n",
            "Requirement already satisfied: charset-normalizer<4,>=2 in /usr/local/lib/python3.11/dist-packages (from requests<3,>=2->langchain-community) (3.4.1)\n",
            "Requirement already satisfied: idna<4,>=2.5 in /usr/local/lib/python3.11/dist-packages (from requests<3,>=2->langchain-community) (3.10)\n",
            "Requirement already satisfied: urllib3<3,>=1.21.1 in /usr/local/lib/python3.11/dist-packages (from requests<3,>=2->langchain-community) (2.3.0)\n",
            "Requirement already satisfied: certifi>=2017.4.17 in /usr/local/lib/python3.11/dist-packages (from requests<3,>=2->langchain-community) (2025.1.31)\n",
            "Requirement already satisfied: greenlet!=0.4.17 in /usr/local/lib/python3.11/dist-packages (from SQLAlchemy<3,>=1.4->langchain-community) (3.1.1)\n",
            "Requirement already satisfied: anyio in /usr/local/lib/python3.11/dist-packages (from httpx<1,>=0.23.0->langsmith<0.4,>=0.1.125->langchain-community) (4.9.0)\n",
            "Requirement already satisfied: httpcore==1.* in /usr/local/lib/python3.11/dist-packages (from httpx<1,>=0.23.0->langsmith<0.4,>=0.1.125->langchain-community) (1.0.7)\n",
            "Requirement already satisfied: h11<0.15,>=0.13 in /usr/local/lib/python3.11/dist-packages (from httpcore==1.*->httpx<1,>=0.23.0->langsmith<0.4,>=0.1.125->langchain-community) (0.14.0)\n",
            "Requirement already satisfied: jsonpointer>=1.9 in /usr/local/lib/python3.11/dist-packages (from jsonpatch<2.0,>=1.33->langchain-core<1.0.0,>=0.3.45->langchain-community) (3.0.0)\n",
            "Requirement already satisfied: annotated-types>=0.6.0 in /usr/local/lib/python3.11/dist-packages (from pydantic<3.0.0,>=2.7.4->langchain<1.0.0,>=0.3.21->langchain-community) (0.7.0)\n",
            "Requirement already satisfied: pydantic-core==2.27.2 in /usr/local/lib/python3.11/dist-packages (from pydantic<3.0.0,>=2.7.4->langchain<1.0.0,>=0.3.21->langchain-community) (2.27.2)\n",
            "Requirement already satisfied: mypy-extensions>=0.3.0 in /usr/local/lib/python3.11/dist-packages (from typing-inspect<1,>=0.4.0->dataclasses-json<0.7,>=0.5.7->langchain-community) (1.0.0)\n",
            "Requirement already satisfied: sniffio>=1.1 in /usr/local/lib/python3.11/dist-packages (from anyio->httpx<1,>=0.23.0->langsmith<0.4,>=0.1.125->langchain-community) (1.3.1)\n",
            "Downloading langchain_community-0.3.20-py3-none-any.whl (2.5 MB)\n",
            "\u001b[2K   \u001b[90m━━━━━━━━━━━━━━━━━━━━━━━━━━━━━━━━━━━━━━━━\u001b[0m \u001b[32m2.5/2.5 MB\u001b[0m \u001b[31m39.1 MB/s\u001b[0m eta \u001b[36m0:00:00\u001b[0m\n",
            "\u001b[?25hDownloading dataclasses_json-0.6.7-py3-none-any.whl (28 kB)\n",
            "Downloading httpx_sse-0.4.0-py3-none-any.whl (7.8 kB)\n",
            "Downloading langchain-0.3.21-py3-none-any.whl (1.0 MB)\n",
            "\u001b[2K   \u001b[90m━━━━━━━━━━━━━━━━━━━━━━━━━━━━━━━━━━━━━━━━\u001b[0m \u001b[32m1.0/1.0 MB\u001b[0m \u001b[31m45.7 MB/s\u001b[0m eta \u001b[36m0:00:00\u001b[0m\n",
            "\u001b[?25hDownloading pydantic_settings-2.8.1-py3-none-any.whl (30 kB)\n",
            "Downloading langchain_text_splitters-0.3.7-py3-none-any.whl (32 kB)\n",
            "Downloading marshmallow-3.26.1-py3-none-any.whl (50 kB)\n",
            "\u001b[2K   \u001b[90m━━━━━━━━━━━━━━━━━━━━━━━━━━━━━━━━━━━━━━━━\u001b[0m \u001b[32m50.9/50.9 kB\u001b[0m \u001b[31m3.6 MB/s\u001b[0m eta \u001b[36m0:00:00\u001b[0m\n",
            "\u001b[?25hInstalling collected packages: marshmallow, httpx-sse, dataclasses-json, pydantic-settings, langchain-text-splitters, langchain, langchain-community\n",
            "  Attempting uninstall: langchain-text-splitters\n",
            "    Found existing installation: langchain-text-splitters 0.3.6\n",
            "    Uninstalling langchain-text-splitters-0.3.6:\n",
            "      Successfully uninstalled langchain-text-splitters-0.3.6\n",
            "  Attempting uninstall: langchain\n",
            "    Found existing installation: langchain 0.3.20\n",
            "    Uninstalling langchain-0.3.20:\n",
            "      Successfully uninstalled langchain-0.3.20\n",
            "Successfully installed dataclasses-json-0.6.7 httpx-sse-0.4.0 langchain-0.3.21 langchain-community-0.3.20 langchain-text-splitters-0.3.7 marshmallow-3.26.1 pydantic-settings-2.8.1\n"
          ]
        }
      ]
    },
    {
      "cell_type": "code",
      "source": [
        "import pandas as pd\n",
        "from langchain.chat_models import ChatOpenAI\n",
        "from langchain.chains import ConversationalRetrievalChain\n",
        "from langchain.vectorstores import FAISS\n",
        "from langchain.embeddings.openai import OpenAIEmbeddings\n",
        "from langchain.memory import ConversationBufferMemory\n",
        "from langchain.prompts import PromptTemplate\n",
        "from langchain.text_splitter import CharacterTextSplitter"
      ],
      "metadata": {
        "id": "t-2KwtwPPwkC"
      },
      "execution_count": 5,
      "outputs": []
    },
    {
      "cell_type": "markdown",
      "source": [
        "# **Data Collection and Preprocessing**\n"
      ],
      "metadata": {
        "id": "pwvWRdYqlLSG"
      }
    },
    {
      "cell_type": "code",
      "source": [
        "df=pd.read_csv(\"Fashion Dataset v2.csv\")"
      ],
      "metadata": {
        "id": "x5zY-UV1S4QG"
      },
      "execution_count": 7,
      "outputs": []
    },
    {
      "cell_type": "code",
      "source": [
        "df.head()"
      ],
      "metadata": {
        "colab": {
          "base_uri": "https://localhost:8080/",
          "height": 414
        },
        "id": "eXi7WZTiS4Ca",
        "outputId": "ddd571c1-090d-409a-a300-160257dfadee"
      },
      "execution_count": 8,
      "outputs": [
        {
          "output_type": "execute_result",
          "data": {
            "text/plain": [
              "       p_id                                               name  \\\n",
              "0  17048614  Khushal K Women Black Ethnic Motifs Printed Ku...   \n",
              "1  16524740  InWeave Women Orange Solid Kurta with Palazzos...   \n",
              "2  16331376  Anubhutee Women Navy Blue Ethnic Motifs Embroi...   \n",
              "3  14709966  Nayo Women Red Floral Printed Kurta With Trous...   \n",
              "4  11056154   AHIKA Women Black & Green Printed Straight Kurta   \n",
              "\n",
              "                                products   price     colour      brand  \\\n",
              "0               Kurta, Palazzos, Dupatta  5099.0      Black  Khushal K   \n",
              "1  Kurta, Palazzos, Floral Print Dupatta  5899.0     Orange    InWeave   \n",
              "2               Kurta, Trousers, Dupatta  4899.0  Navy Blue  Anubhutee   \n",
              "3                Kurta, Trouser, Dupatta  3699.0        Red       Nayo   \n",
              "4                                  Kurta  1350.0      Black      AHIKA   \n",
              "\n",
              "                                                 img  ratingCount  avg_rating  \\\n",
              "0  http://assets.myntassets.com/assets/images/170...       4522.0    4.418399   \n",
              "1  http://assets.myntassets.com/assets/images/165...       1081.0    4.119334   \n",
              "2  http://assets.myntassets.com/assets/images/163...       1752.0    4.161530   \n",
              "3  http://assets.myntassets.com/assets/images/147...       4113.0    4.088986   \n",
              "4  http://assets.myntassets.com/assets/images/110...      21274.0    3.978377   \n",
              "\n",
              "                                         description  \\\n",
              "0  Black printed Kurta with Palazzos with dupatta...   \n",
              "1  Orange solid Kurta with Palazzos with dupatta<...   \n",
              "2  Navy blue embroidered Kurta with Trousers with...   \n",
              "3  Red printed kurta with trouser and dupatta<br>...   \n",
              "4  Black and green printed straight kurta, has a ...   \n",
              "\n",
              "                                        p_attributes  \n",
              "0  {'Add-Ons': 'NA', 'Body Shape ID': '443,333,32...  \n",
              "1  {'Add-Ons': 'NA', 'Body Shape ID': '443,333,32...  \n",
              "2  {'Add-Ons': 'NA', 'Body Shape ID': '333,424', ...  \n",
              "3  {'Add-Ons': 'NA', 'Body Shape ID': '333,424', ...  \n",
              "4  {'Body Shape ID': '424', 'Body or Garment Size...  "
            ],
            "text/html": [
              "\n",
              "  <div id=\"df-b39f38ec-7751-452b-ad4e-06f59df287c8\" class=\"colab-df-container\">\n",
              "    <div>\n",
              "<style scoped>\n",
              "    .dataframe tbody tr th:only-of-type {\n",
              "        vertical-align: middle;\n",
              "    }\n",
              "\n",
              "    .dataframe tbody tr th {\n",
              "        vertical-align: top;\n",
              "    }\n",
              "\n",
              "    .dataframe thead th {\n",
              "        text-align: right;\n",
              "    }\n",
              "</style>\n",
              "<table border=\"1\" class=\"dataframe\">\n",
              "  <thead>\n",
              "    <tr style=\"text-align: right;\">\n",
              "      <th></th>\n",
              "      <th>p_id</th>\n",
              "      <th>name</th>\n",
              "      <th>products</th>\n",
              "      <th>price</th>\n",
              "      <th>colour</th>\n",
              "      <th>brand</th>\n",
              "      <th>img</th>\n",
              "      <th>ratingCount</th>\n",
              "      <th>avg_rating</th>\n",
              "      <th>description</th>\n",
              "      <th>p_attributes</th>\n",
              "    </tr>\n",
              "  </thead>\n",
              "  <tbody>\n",
              "    <tr>\n",
              "      <th>0</th>\n",
              "      <td>17048614</td>\n",
              "      <td>Khushal K Women Black Ethnic Motifs Printed Ku...</td>\n",
              "      <td>Kurta, Palazzos, Dupatta</td>\n",
              "      <td>5099.0</td>\n",
              "      <td>Black</td>\n",
              "      <td>Khushal K</td>\n",
              "      <td>http://assets.myntassets.com/assets/images/170...</td>\n",
              "      <td>4522.0</td>\n",
              "      <td>4.418399</td>\n",
              "      <td>Black printed Kurta with Palazzos with dupatta...</td>\n",
              "      <td>{'Add-Ons': 'NA', 'Body Shape ID': '443,333,32...</td>\n",
              "    </tr>\n",
              "    <tr>\n",
              "      <th>1</th>\n",
              "      <td>16524740</td>\n",
              "      <td>InWeave Women Orange Solid Kurta with Palazzos...</td>\n",
              "      <td>Kurta, Palazzos, Floral Print Dupatta</td>\n",
              "      <td>5899.0</td>\n",
              "      <td>Orange</td>\n",
              "      <td>InWeave</td>\n",
              "      <td>http://assets.myntassets.com/assets/images/165...</td>\n",
              "      <td>1081.0</td>\n",
              "      <td>4.119334</td>\n",
              "      <td>Orange solid Kurta with Palazzos with dupatta&lt;...</td>\n",
              "      <td>{'Add-Ons': 'NA', 'Body Shape ID': '443,333,32...</td>\n",
              "    </tr>\n",
              "    <tr>\n",
              "      <th>2</th>\n",
              "      <td>16331376</td>\n",
              "      <td>Anubhutee Women Navy Blue Ethnic Motifs Embroi...</td>\n",
              "      <td>Kurta, Trousers, Dupatta</td>\n",
              "      <td>4899.0</td>\n",
              "      <td>Navy Blue</td>\n",
              "      <td>Anubhutee</td>\n",
              "      <td>http://assets.myntassets.com/assets/images/163...</td>\n",
              "      <td>1752.0</td>\n",
              "      <td>4.161530</td>\n",
              "      <td>Navy blue embroidered Kurta with Trousers with...</td>\n",
              "      <td>{'Add-Ons': 'NA', 'Body Shape ID': '333,424', ...</td>\n",
              "    </tr>\n",
              "    <tr>\n",
              "      <th>3</th>\n",
              "      <td>14709966</td>\n",
              "      <td>Nayo Women Red Floral Printed Kurta With Trous...</td>\n",
              "      <td>Kurta, Trouser, Dupatta</td>\n",
              "      <td>3699.0</td>\n",
              "      <td>Red</td>\n",
              "      <td>Nayo</td>\n",
              "      <td>http://assets.myntassets.com/assets/images/147...</td>\n",
              "      <td>4113.0</td>\n",
              "      <td>4.088986</td>\n",
              "      <td>Red printed kurta with trouser and dupatta&lt;br&gt;...</td>\n",
              "      <td>{'Add-Ons': 'NA', 'Body Shape ID': '333,424', ...</td>\n",
              "    </tr>\n",
              "    <tr>\n",
              "      <th>4</th>\n",
              "      <td>11056154</td>\n",
              "      <td>AHIKA Women Black &amp; Green Printed Straight Kurta</td>\n",
              "      <td>Kurta</td>\n",
              "      <td>1350.0</td>\n",
              "      <td>Black</td>\n",
              "      <td>AHIKA</td>\n",
              "      <td>http://assets.myntassets.com/assets/images/110...</td>\n",
              "      <td>21274.0</td>\n",
              "      <td>3.978377</td>\n",
              "      <td>Black and green printed straight kurta, has a ...</td>\n",
              "      <td>{'Body Shape ID': '424', 'Body or Garment Size...</td>\n",
              "    </tr>\n",
              "  </tbody>\n",
              "</table>\n",
              "</div>\n",
              "    <div class=\"colab-df-buttons\">\n",
              "\n",
              "  <div class=\"colab-df-container\">\n",
              "    <button class=\"colab-df-convert\" onclick=\"convertToInteractive('df-b39f38ec-7751-452b-ad4e-06f59df287c8')\"\n",
              "            title=\"Convert this dataframe to an interactive table.\"\n",
              "            style=\"display:none;\">\n",
              "\n",
              "  <svg xmlns=\"http://www.w3.org/2000/svg\" height=\"24px\" viewBox=\"0 -960 960 960\">\n",
              "    <path d=\"M120-120v-720h720v720H120Zm60-500h600v-160H180v160Zm220 220h160v-160H400v160Zm0 220h160v-160H400v160ZM180-400h160v-160H180v160Zm440 0h160v-160H620v160ZM180-180h160v-160H180v160Zm440 0h160v-160H620v160Z\"/>\n",
              "  </svg>\n",
              "    </button>\n",
              "\n",
              "  <style>\n",
              "    .colab-df-container {\n",
              "      display:flex;\n",
              "      gap: 12px;\n",
              "    }\n",
              "\n",
              "    .colab-df-convert {\n",
              "      background-color: #E8F0FE;\n",
              "      border: none;\n",
              "      border-radius: 50%;\n",
              "      cursor: pointer;\n",
              "      display: none;\n",
              "      fill: #1967D2;\n",
              "      height: 32px;\n",
              "      padding: 0 0 0 0;\n",
              "      width: 32px;\n",
              "    }\n",
              "\n",
              "    .colab-df-convert:hover {\n",
              "      background-color: #E2EBFA;\n",
              "      box-shadow: 0px 1px 2px rgba(60, 64, 67, 0.3), 0px 1px 3px 1px rgba(60, 64, 67, 0.15);\n",
              "      fill: #174EA6;\n",
              "    }\n",
              "\n",
              "    .colab-df-buttons div {\n",
              "      margin-bottom: 4px;\n",
              "    }\n",
              "\n",
              "    [theme=dark] .colab-df-convert {\n",
              "      background-color: #3B4455;\n",
              "      fill: #D2E3FC;\n",
              "    }\n",
              "\n",
              "    [theme=dark] .colab-df-convert:hover {\n",
              "      background-color: #434B5C;\n",
              "      box-shadow: 0px 1px 3px 1px rgba(0, 0, 0, 0.15);\n",
              "      filter: drop-shadow(0px 1px 2px rgba(0, 0, 0, 0.3));\n",
              "      fill: #FFFFFF;\n",
              "    }\n",
              "  </style>\n",
              "\n",
              "    <script>\n",
              "      const buttonEl =\n",
              "        document.querySelector('#df-b39f38ec-7751-452b-ad4e-06f59df287c8 button.colab-df-convert');\n",
              "      buttonEl.style.display =\n",
              "        google.colab.kernel.accessAllowed ? 'block' : 'none';\n",
              "\n",
              "      async function convertToInteractive(key) {\n",
              "        const element = document.querySelector('#df-b39f38ec-7751-452b-ad4e-06f59df287c8');\n",
              "        const dataTable =\n",
              "          await google.colab.kernel.invokeFunction('convertToInteractive',\n",
              "                                                    [key], {});\n",
              "        if (!dataTable) return;\n",
              "\n",
              "        const docLinkHtml = 'Like what you see? Visit the ' +\n",
              "          '<a target=\"_blank\" href=https://colab.research.google.com/notebooks/data_table.ipynb>data table notebook</a>'\n",
              "          + ' to learn more about interactive tables.';\n",
              "        element.innerHTML = '';\n",
              "        dataTable['output_type'] = 'display_data';\n",
              "        await google.colab.output.renderOutput(dataTable, element);\n",
              "        const docLink = document.createElement('div');\n",
              "        docLink.innerHTML = docLinkHtml;\n",
              "        element.appendChild(docLink);\n",
              "      }\n",
              "    </script>\n",
              "  </div>\n",
              "\n",
              "\n",
              "<div id=\"df-f579e07e-cb9b-49c8-8429-4430f25573f3\">\n",
              "  <button class=\"colab-df-quickchart\" onclick=\"quickchart('df-f579e07e-cb9b-49c8-8429-4430f25573f3')\"\n",
              "            title=\"Suggest charts\"\n",
              "            style=\"display:none;\">\n",
              "\n",
              "<svg xmlns=\"http://www.w3.org/2000/svg\" height=\"24px\"viewBox=\"0 0 24 24\"\n",
              "     width=\"24px\">\n",
              "    <g>\n",
              "        <path d=\"M19 3H5c-1.1 0-2 .9-2 2v14c0 1.1.9 2 2 2h14c1.1 0 2-.9 2-2V5c0-1.1-.9-2-2-2zM9 17H7v-7h2v7zm4 0h-2V7h2v10zm4 0h-2v-4h2v4z\"/>\n",
              "    </g>\n",
              "</svg>\n",
              "  </button>\n",
              "\n",
              "<style>\n",
              "  .colab-df-quickchart {\n",
              "      --bg-color: #E8F0FE;\n",
              "      --fill-color: #1967D2;\n",
              "      --hover-bg-color: #E2EBFA;\n",
              "      --hover-fill-color: #174EA6;\n",
              "      --disabled-fill-color: #AAA;\n",
              "      --disabled-bg-color: #DDD;\n",
              "  }\n",
              "\n",
              "  [theme=dark] .colab-df-quickchart {\n",
              "      --bg-color: #3B4455;\n",
              "      --fill-color: #D2E3FC;\n",
              "      --hover-bg-color: #434B5C;\n",
              "      --hover-fill-color: #FFFFFF;\n",
              "      --disabled-bg-color: #3B4455;\n",
              "      --disabled-fill-color: #666;\n",
              "  }\n",
              "\n",
              "  .colab-df-quickchart {\n",
              "    background-color: var(--bg-color);\n",
              "    border: none;\n",
              "    border-radius: 50%;\n",
              "    cursor: pointer;\n",
              "    display: none;\n",
              "    fill: var(--fill-color);\n",
              "    height: 32px;\n",
              "    padding: 0;\n",
              "    width: 32px;\n",
              "  }\n",
              "\n",
              "  .colab-df-quickchart:hover {\n",
              "    background-color: var(--hover-bg-color);\n",
              "    box-shadow: 0 1px 2px rgba(60, 64, 67, 0.3), 0 1px 3px 1px rgba(60, 64, 67, 0.15);\n",
              "    fill: var(--button-hover-fill-color);\n",
              "  }\n",
              "\n",
              "  .colab-df-quickchart-complete:disabled,\n",
              "  .colab-df-quickchart-complete:disabled:hover {\n",
              "    background-color: var(--disabled-bg-color);\n",
              "    fill: var(--disabled-fill-color);\n",
              "    box-shadow: none;\n",
              "  }\n",
              "\n",
              "  .colab-df-spinner {\n",
              "    border: 2px solid var(--fill-color);\n",
              "    border-color: transparent;\n",
              "    border-bottom-color: var(--fill-color);\n",
              "    animation:\n",
              "      spin 1s steps(1) infinite;\n",
              "  }\n",
              "\n",
              "  @keyframes spin {\n",
              "    0% {\n",
              "      border-color: transparent;\n",
              "      border-bottom-color: var(--fill-color);\n",
              "      border-left-color: var(--fill-color);\n",
              "    }\n",
              "    20% {\n",
              "      border-color: transparent;\n",
              "      border-left-color: var(--fill-color);\n",
              "      border-top-color: var(--fill-color);\n",
              "    }\n",
              "    30% {\n",
              "      border-color: transparent;\n",
              "      border-left-color: var(--fill-color);\n",
              "      border-top-color: var(--fill-color);\n",
              "      border-right-color: var(--fill-color);\n",
              "    }\n",
              "    40% {\n",
              "      border-color: transparent;\n",
              "      border-right-color: var(--fill-color);\n",
              "      border-top-color: var(--fill-color);\n",
              "    }\n",
              "    60% {\n",
              "      border-color: transparent;\n",
              "      border-right-color: var(--fill-color);\n",
              "    }\n",
              "    80% {\n",
              "      border-color: transparent;\n",
              "      border-right-color: var(--fill-color);\n",
              "      border-bottom-color: var(--fill-color);\n",
              "    }\n",
              "    90% {\n",
              "      border-color: transparent;\n",
              "      border-bottom-color: var(--fill-color);\n",
              "    }\n",
              "  }\n",
              "</style>\n",
              "\n",
              "  <script>\n",
              "    async function quickchart(key) {\n",
              "      const quickchartButtonEl =\n",
              "        document.querySelector('#' + key + ' button');\n",
              "      quickchartButtonEl.disabled = true;  // To prevent multiple clicks.\n",
              "      quickchartButtonEl.classList.add('colab-df-spinner');\n",
              "      try {\n",
              "        const charts = await google.colab.kernel.invokeFunction(\n",
              "            'suggestCharts', [key], {});\n",
              "      } catch (error) {\n",
              "        console.error('Error during call to suggestCharts:', error);\n",
              "      }\n",
              "      quickchartButtonEl.classList.remove('colab-df-spinner');\n",
              "      quickchartButtonEl.classList.add('colab-df-quickchart-complete');\n",
              "    }\n",
              "    (() => {\n",
              "      let quickchartButtonEl =\n",
              "        document.querySelector('#df-f579e07e-cb9b-49c8-8429-4430f25573f3 button');\n",
              "      quickchartButtonEl.style.display =\n",
              "        google.colab.kernel.accessAllowed ? 'block' : 'none';\n",
              "    })();\n",
              "  </script>\n",
              "</div>\n",
              "\n",
              "    </div>\n",
              "  </div>\n"
            ],
            "application/vnd.google.colaboratory.intrinsic+json": {
              "type": "dataframe",
              "variable_name": "df",
              "summary": "{\n  \"name\": \"df\",\n  \"rows\": 14214,\n  \"fields\": [\n    {\n      \"column\": \"p_id\",\n      \"properties\": {\n        \"dtype\": \"number\",\n        \"std\": 3152415,\n        \"min\": 70166,\n        \"max\": 19415760,\n        \"num_unique_values\": 14214,\n        \"samples\": [\n          18688460,\n          17441634,\n          14179076\n        ],\n        \"semantic_type\": \"\",\n        \"description\": \"\"\n      }\n    },\n    {\n      \"column\": \"name\",\n      \"properties\": {\n        \"dtype\": \"string\",\n        \"num_unique_values\": 13873,\n        \"samples\": [\n          \"Clora Creation Women Off White Floral Embroidered Palazzos\",\n          \"MANGO Women Red & Beige Abstract Print A-Line Top\",\n          \"Clora Creation Navy Blue Woven Design Banarsi Silk Dupatta\"\n        ],\n        \"semantic_type\": \"\",\n        \"description\": \"\"\n      }\n    },\n    {\n      \"column\": \"products\",\n      \"properties\": {\n        \"dtype\": \"category\",\n        \"num_unique_values\": 910,\n        \"samples\": [\n          \"Hoodie, Plus Size\",\n          \"Top, Palazzos, Ethnic Jacket\",\n          \"Jeans, Culottes, Trousers\"\n        ],\n        \"semantic_type\": \"\",\n        \"description\": \"\"\n      }\n    },\n    {\n      \"column\": \"price\",\n      \"properties\": {\n        \"dtype\": \"number\",\n        \"std\": 2570.2329882965837,\n        \"min\": 169.0,\n        \"max\": 47999.0,\n        \"num_unique_values\": 1209,\n        \"samples\": [\n          2259.0,\n          475.0,\n          4590.0\n        ],\n        \"semantic_type\": \"\",\n        \"description\": \"\"\n      }\n    },\n    {\n      \"column\": \"colour\",\n      \"properties\": {\n        \"dtype\": \"category\",\n        \"num_unique_values\": 50,\n        \"samples\": [\n          \"Sea Green\",\n          \"Gold\",\n          \"Rust\"\n        ],\n        \"semantic_type\": \"\",\n        \"description\": \"\"\n      }\n    },\n    {\n      \"column\": \"brand\",\n      \"properties\": {\n        \"dtype\": \"category\",\n        \"num_unique_values\": 1022,\n        \"samples\": [\n          \"Zigo\",\n          \"Reistor\",\n          \"SERONA FABRICS\"\n        ],\n        \"semantic_type\": \"\",\n        \"description\": \"\"\n      }\n    },\n    {\n      \"column\": \"img\",\n      \"properties\": {\n        \"dtype\": \"string\",\n        \"num_unique_values\": 14214,\n        \"samples\": [\n          \"http://assets.myntassets.com/assets/images/18688460/2022/6/9/91ab90ee-c162-4d9f-9e4e-4f9c0cd7865a1654782377953Skirts1.jpg\",\n          \"http://assets.myntassets.com/assets/images/17441634/2022/3/8/1d50e24c-e7bf-4e62-8a96-9625b530f4751646740866170Jackets1.jpg\",\n          \"http://assets.myntassets.com/assets/images/14179076/2021/6/24/fdb8118a-1946-4b43-9ee7-c52146e004151624527103903-DressBerry-Women-Sweaters-5311624527103479-1.jpg\"\n        ],\n        \"semantic_type\": \"\",\n        \"description\": \"\"\n      }\n    },\n    {\n      \"column\": \"ratingCount\",\n      \"properties\": {\n        \"dtype\": \"number\",\n        \"std\": 782.4649724046869,\n        \"min\": 1.0,\n        \"max\": 21274.0,\n        \"num_unique_values\": 829,\n        \"samples\": [\n          897.0,\n          173.0,\n          592.0\n        ],\n        \"semantic_type\": \"\",\n        \"description\": \"\"\n      }\n    },\n    {\n      \"column\": \"avg_rating\",\n      \"properties\": {\n        \"dtype\": \"number\",\n        \"std\": 0.4757558612927901,\n        \"min\": 1.0,\n        \"max\": 5.0,\n        \"num_unique_values\": 2367,\n        \"samples\": [\n          3.771084337349397,\n          4.496644295302014,\n          3.631578947368421\n        ],\n        \"semantic_type\": \"\",\n        \"description\": \"\"\n      }\n    },\n    {\n      \"column\": \"description\",\n      \"properties\": {\n        \"dtype\": \"string\",\n        \"num_unique_values\": 14181,\n        \"samples\": [\n          \"<p>Off-white, blue and burgundy floral printed flared maxi skirt, has a partially elasticated waistband, slip-on closure, flared hem and is lined</p><p>Viscose rayon<br>Machine-wash<br>Do not bleach</p><p>The model (height 5'8\\\") is wearing a size 28</p>\",\n          \"Burgundy solid basic jumpsuit, has a keyhole neckline, sleeveless, and two pockets<br>Comes with a beltMaterial: Polyester crepe<br>Machine WashThe model (height 5'8'') is wearing a size S\",\n          \"Grey abstract printed insulator quilted jacket,  has a hooded,  2  pockets ,has a zip closure, long sleeves,  straight  hemline, polyester  lining<br><br>Warranty: 1 month<br>Warranty provided by brand/manufacturerOuter shell: Polyester <br> Lining fabric: Polyester <br> Machine washThe model (height 5'8) is wearing a size S<br><br>Columbia runs a size bigger. Pick one size smaller for a more comfortable fit.\"\n        ],\n        \"semantic_type\": \"\",\n        \"description\": \"\"\n      }\n    },\n    {\n      \"column\": \"p_attributes\",\n      \"properties\": {\n        \"dtype\": \"string\",\n        \"num_unique_values\": 13089,\n        \"samples\": [\n          \"{'Body or Garment Size': 'Garment Measurements in', 'Closure': 'NA', 'Fabric': 'Cotton', 'Main Trend': 'NA', 'Neck': 'Shoulder Straps', 'Number of Pockets': 'NA', 'Occasion': 'Casual', 'Pattern': 'Solid', 'Sleeve Length': 'Sleeveless', 'Surface Styling': 'Gathers', 'Sustainable': 'Regular', 'Type': 'Playsuit', 'Wash Care': 'Hand Wash'}\",\n          \"{'Border': 'Woven Design', 'Fabric': 'Art Silk', 'Occasion': 'Party', 'Ornamentation': 'Gotta Patti', 'Pattern': 'Printed', 'Print or Pattern Type': 'Bandhani', 'Sustainable': 'Regular', 'Technique': 'Bandhani', 'Wash Care': 'Machine Wash', 'Wedding': 'Bride & Wedding Squad'}\",\n          \"{'Body Shape ID': '443,333,324,424', 'Body or Garment Size': 'To-Fit Denotes Body Measurements in', 'Center Front Open': 'No', 'Character': 'NA', 'Closure': 'Tie-Ups', 'Fabric': 'Pure Cotton', 'Fabric Type': 'NA', 'Length': 'Regular', 'Lining': 'NA', 'Main Trend': 'Conversational Print', 'Multipack Set': 'NA', 'Neck': 'Shoulder Straps', 'Occasion': 'Ethnic', 'Pattern': 'Printed', 'Print or Pattern Type': 'Conversational', 'Sleeve Length': 'Sleeveless', 'Sleeve Styling': 'No Sleeves', 'Surface Styling': 'Tie-Ups', 'Sustainable': 'Regular', 'Transparency': 'Opaque', 'Type': 'Regular', 'Wash Care': 'Hand Wash', 'Weave Type': 'Woven', 'taxMaterial': 'NA'}\"\n        ],\n        \"semantic_type\": \"\",\n        \"description\": \"\"\n      }\n    }\n  ]\n}"
            }
          },
          "metadata": {},
          "execution_count": 8
        }
      ]
    },
    {
      "cell_type": "code",
      "source": [
        "df.info()"
      ],
      "metadata": {
        "colab": {
          "base_uri": "https://localhost:8080/"
        },
        "id": "JNoUmyKqS3_C",
        "outputId": "b5a7a7de-5c01-4fd9-a22b-ad053a6391bd"
      },
      "execution_count": 9,
      "outputs": [
        {
          "output_type": "stream",
          "name": "stdout",
          "text": [
            "<class 'pandas.core.frame.DataFrame'>\n",
            "RangeIndex: 14214 entries, 0 to 14213\n",
            "Data columns (total 11 columns):\n",
            " #   Column        Non-Null Count  Dtype  \n",
            "---  ------        --------------  -----  \n",
            " 0   p_id          14214 non-null  int64  \n",
            " 1   name          14214 non-null  object \n",
            " 2   products      14214 non-null  object \n",
            " 3   price         14214 non-null  float64\n",
            " 4   colour        14214 non-null  object \n",
            " 5   brand         14214 non-null  object \n",
            " 6   img           14214 non-null  object \n",
            " 7   ratingCount   6530 non-null   float64\n",
            " 8   avg_rating    6530 non-null   float64\n",
            " 9   description   14214 non-null  object \n",
            " 10  p_attributes  14214 non-null  object \n",
            "dtypes: float64(3), int64(1), object(7)\n",
            "memory usage: 1.2+ MB\n"
          ]
        }
      ]
    },
    {
      "cell_type": "code",
      "source": [
        "# eliminate duplicates in df\n",
        "\n",
        "df = df.drop_duplicates()\n"
      ],
      "metadata": {
        "id": "hRItM6yrk--h"
      },
      "execution_count": 9,
      "outputs": []
    },
    {
      "cell_type": "code",
      "source": [
        "df.shape"
      ],
      "metadata": {
        "colab": {
          "base_uri": "https://localhost:8080/"
        },
        "id": "AFTtt5R_k-67",
        "outputId": "ac4a8509-7e61-4ae1-b814-e1a1c80353d5"
      },
      "execution_count": 10,
      "outputs": [
        {
          "output_type": "execute_result",
          "data": {
            "text/plain": [
              "(14214, 11)"
            ]
          },
          "metadata": {},
          "execution_count": 10
        }
      ]
    },
    {
      "cell_type": "code",
      "source": [
        "#combine product id,name,description and price to column text\n",
        "\n",
        "df['text'] = df['p_id'].astype(str) + \" \" + df['name'] + \" \" + df['description'] + \" \" + df['price'].astype(str) + \" \" + df['img']\n"
      ],
      "metadata": {
        "id": "_rBANSk0k-4S"
      },
      "execution_count": 41,
      "outputs": []
    },
    {
      "cell_type": "code",
      "source": [
        "df['text']"
      ],
      "metadata": {
        "colab": {
          "base_uri": "https://localhost:8080/",
          "height": 458
        },
        "id": "riwx2e5Dk-1x",
        "outputId": "b58a7115-2974-44f0-8d5d-16a49e27f39f"
      },
      "execution_count": 42,
      "outputs": [
        {
          "output_type": "execute_result",
          "data": {
            "text/plain": [
              "0        17048614 Khushal K Women Black Ethnic Motifs P...\n",
              "1        16524740 InWeave Women Orange Solid Kurta with...\n",
              "2        16331376 Anubhutee Women Navy Blue Ethnic Moti...\n",
              "3        14709966 Nayo Women Red Floral Printed Kurta W...\n",
              "4        11056154 AHIKA Women Black & Green Printed Str...\n",
              "                               ...                        \n",
              "14209    15415116 Flying Machine Women Blue Solid Mock-...\n",
              "14210    16470114 Juelle Women Green Printed Hooded Swe...\n",
              "14211    16382150 Vero Moda Women Pink Sweatshirt Pink ...\n",
              "14212    16379664 Vero Moda Women Blue Sweatshirt Blue ...\n",
              "14213    16379656 Vero Moda Women Grey & Green Colourbl...\n",
              "Name: text, Length: 14214, dtype: object"
            ],
            "text/html": [
              "<div>\n",
              "<style scoped>\n",
              "    .dataframe tbody tr th:only-of-type {\n",
              "        vertical-align: middle;\n",
              "    }\n",
              "\n",
              "    .dataframe tbody tr th {\n",
              "        vertical-align: top;\n",
              "    }\n",
              "\n",
              "    .dataframe thead th {\n",
              "        text-align: right;\n",
              "    }\n",
              "</style>\n",
              "<table border=\"1\" class=\"dataframe\">\n",
              "  <thead>\n",
              "    <tr style=\"text-align: right;\">\n",
              "      <th></th>\n",
              "      <th>text</th>\n",
              "    </tr>\n",
              "  </thead>\n",
              "  <tbody>\n",
              "    <tr>\n",
              "      <th>0</th>\n",
              "      <td>17048614 Khushal K Women Black Ethnic Motifs P...</td>\n",
              "    </tr>\n",
              "    <tr>\n",
              "      <th>1</th>\n",
              "      <td>16524740 InWeave Women Orange Solid Kurta with...</td>\n",
              "    </tr>\n",
              "    <tr>\n",
              "      <th>2</th>\n",
              "      <td>16331376 Anubhutee Women Navy Blue Ethnic Moti...</td>\n",
              "    </tr>\n",
              "    <tr>\n",
              "      <th>3</th>\n",
              "      <td>14709966 Nayo Women Red Floral Printed Kurta W...</td>\n",
              "    </tr>\n",
              "    <tr>\n",
              "      <th>4</th>\n",
              "      <td>11056154 AHIKA Women Black &amp; Green Printed Str...</td>\n",
              "    </tr>\n",
              "    <tr>\n",
              "      <th>...</th>\n",
              "      <td>...</td>\n",
              "    </tr>\n",
              "    <tr>\n",
              "      <th>14209</th>\n",
              "      <td>15415116 Flying Machine Women Blue Solid Mock-...</td>\n",
              "    </tr>\n",
              "    <tr>\n",
              "      <th>14210</th>\n",
              "      <td>16470114 Juelle Women Green Printed Hooded Swe...</td>\n",
              "    </tr>\n",
              "    <tr>\n",
              "      <th>14211</th>\n",
              "      <td>16382150 Vero Moda Women Pink Sweatshirt Pink ...</td>\n",
              "    </tr>\n",
              "    <tr>\n",
              "      <th>14212</th>\n",
              "      <td>16379664 Vero Moda Women Blue Sweatshirt Blue ...</td>\n",
              "    </tr>\n",
              "    <tr>\n",
              "      <th>14213</th>\n",
              "      <td>16379656 Vero Moda Women Grey &amp; Green Colourbl...</td>\n",
              "    </tr>\n",
              "  </tbody>\n",
              "</table>\n",
              "<p>14214 rows × 1 columns</p>\n",
              "</div><br><label><b>dtype:</b> object</label>"
            ]
          },
          "metadata": {},
          "execution_count": 42
        }
      ]
    },
    {
      "cell_type": "code",
      "source": [
        "# Converting the df into LangChain Document\n",
        "\n",
        "from langchain.docstore.document import Document\n",
        "\n",
        "documents = [\n",
        "    Document(\n",
        "        page_content=row[\"text\"],\n",
        "        metadata={\n",
        "            \"p_id\": row[\"p_id\"],\n",
        "            \"name\": row[\"name\"],\n",
        "            \"brand\": row[\"brand\"],\n",
        "            \"price\": row[\"price\"]\n",
        "        }\n",
        "    )\n",
        "    for _, row in df.iterrows()\n",
        "]\n"
      ],
      "metadata": {
        "id": "RnhjrB9pk-wg"
      },
      "execution_count": 43,
      "outputs": []
    },
    {
      "cell_type": "code",
      "source": [
        "documents[0]"
      ],
      "metadata": {
        "colab": {
          "base_uri": "https://localhost:8080/"
        },
        "id": "PceERBM8k-t3",
        "outputId": "b7d194e4-e8d6-404f-8b19-d6a8a92e0a36"
      },
      "execution_count": 44,
      "outputs": [
        {
          "output_type": "execute_result",
          "data": {
            "text/plain": [
              "Document(metadata={'p_id': 17048614, 'name': 'Khushal K Women Black Ethnic Motifs Printed Kurta with Palazzos & With Dupatta', 'brand': 'Khushal K', 'price': 5099.0}, page_content=\"17048614 Khushal K Women Black Ethnic Motifs Printed Kurta with Palazzos & With Dupatta Black printed Kurta with Palazzos with dupatta <br> <br> <b> Kurta design:  </b> <ul> <li> Ethnic motifs printed </li> <li> Anarkali shape </li> <li> Regular style </li> <li> Mandarin collar,  three-quarter regular sleeves </li> <li> Calf length with flared hem </li> <li> Viscose rayon machine weave fabric </li> </ul> <br> <b> Palazzos design:  </b> <ul> <li> Printed Palazzos </li> <li> Elasticated waistband </li> <li> Slip-on closure </li> </ul>Dupatta Length 2.43 meters Width:&nbsp;88 cm<br>The model (height 5'8) is wearing a size S100% Rayon<br>Machine wash 5099.0 http://assets.myntassets.com/assets/images/17048614/2022/2/4/b0eb9426-adf2-4802-a6b3-5dbacbc5f2511643971561167KhushalKWomenBlackEthnicMotifsAngrakhaBeadsandStonesKurtawit7.jpg\")"
            ]
          },
          "metadata": {},
          "execution_count": 44
        }
      ]
    },
    {
      "cell_type": "markdown",
      "source": [
        "### **Text Embedding & Vectorization (LangChain + FAISS)**"
      ],
      "metadata": {
        "id": "3KWHM7e-q5_M"
      }
    },
    {
      "cell_type": "code",
      "source": [
        "# Create embeddings using OpenAI and create vectore store using FAISS\n",
        "embeddings = OpenAIEmbeddings()\n",
        "db = FAISS.from_documents(documents, embeddings)"
      ],
      "metadata": {
        "id": "sNlFKuxmk-rO"
      },
      "execution_count": 45,
      "outputs": []
    },
    {
      "cell_type": "markdown",
      "source": [
        "## **Retrieval-Augmented Generation (RAG) for Fashion Search**"
      ],
      "metadata": {
        "id": "P7uek3Nr_jkp"
      }
    },
    {
      "cell_type": "code",
      "source": [
        "#Use db as the retriever\n",
        "retriever=db.as_retriever()"
      ],
      "metadata": {
        "id": "H5Ty-zfOk-ow"
      },
      "execution_count": 46,
      "outputs": []
    },
    {
      "cell_type": "code",
      "source": [
        "# define memory to preserve the chat history\n",
        "memory = ConversationBufferMemory(memory_key=\"chat_history\", return_messages=True)\n"
      ],
      "metadata": {
        "id": "dJ9qpOj4k-l1"
      },
      "execution_count": 47,
      "outputs": []
    },
    {
      "cell_type": "markdown",
      "source": [
        "## **Defining Prompt Template**"
      ],
      "metadata": {
        "id": "p3HCauPn_63h"
      }
    },
    {
      "cell_type": "code",
      "source": [
        "# Define prompt using Prompt Template of LangChain\n",
        "\n",
        "prompt_template = PromptTemplate(\n",
        "    input_variables=[\"context\", \"question\"],\n",
        "\n",
        "    template=\"\"\"\n",
        "    You are an AI-powered fashion assistant. Based on the user query,Use the given context to recommend the best fashion products.\n",
        "\n",
        "    Context:\n",
        "    {context}\n",
        "\n",
        "    Question:\n",
        "    {question}\n",
        "\n",
        "    Provide a relevant Product Name, Product ID, Brand, Description, Price, and Image URL based on the query.\n",
        "    Make sure to mention the product1,product2 etc in different lines and Also add the introduction like here are some of the suggestions I have\n",
        "    \"\"\"\n",
        ")\n",
        "prompt_template\n"
      ],
      "metadata": {
        "colab": {
          "base_uri": "https://localhost:8080/"
        },
        "id": "TTVBD96fk-jP",
        "outputId": "cf5a2e3f-144c-4337-8c4e-15518f175642"
      },
      "execution_count": 48,
      "outputs": [
        {
          "output_type": "execute_result",
          "data": {
            "text/plain": [
              "PromptTemplate(input_variables=['context', 'question'], input_types={}, partial_variables={}, template='\\n    You are an AI-powered fashion assistant. Based on the user query,Use the given context to recommend the best fashion products.\\n    \\n    Context:\\n    {context}\\n    \\n    Question:\\n    {question}\\n    \\n    Provide a relevant Product Name, Product ID, Brand, Description, Price, and Image URL based on the query.\\n    Make sure to mention the product1,product2 etc in different lines and Also add the introduction like here are some of the suggestions I have\\n    ')"
            ]
          },
          "metadata": {},
          "execution_count": 48
        }
      ]
    },
    {
      "cell_type": "markdown",
      "source": [
        "# **Initialize LLM & ConversationalRetrievalChain**"
      ],
      "metadata": {
        "id": "W_-_nX_WADKB"
      }
    },
    {
      "cell_type": "code",
      "source": [
        "\n",
        "# Initialize LLM & ConversationalRetrievalChain\n",
        "\n",
        "llm = ChatOpenAI(model_name=\"gpt-4\", temperature=0)\n",
        "\n",
        "conversation_chain = ConversationalRetrievalChain.from_llm(\n",
        "    llm=llm,\n",
        "    retriever=retriever,\n",
        "    memory=memory,\n",
        "    combine_docs_chain_kwargs={\"prompt\": prompt_template}\n",
        ")\n"
      ],
      "metadata": {
        "id": "nA8mQZpvk-g9"
      },
      "execution_count": 49,
      "outputs": []
    },
    {
      "cell_type": "markdown",
      "source": [
        "# **Conversational chat with Fashion AI**"
      ],
      "metadata": {
        "id": "0Luc7u8IAH9E"
      }
    },
    {
      "cell_type": "code",
      "source": [
        "# def function to get response based on query input and continue chat conversation\n",
        "def chat_with_fashion_ai(query):\n",
        "    response = conversation_chain.invoke({\"question\": query})\n",
        "    answer = response.get(\"answer\", \"\")\n",
        "\n",
        "    # Ensure response is not an empty list\n",
        "    if isinstance(answer, list):\n",
        "        answer = \"\\n\".join(answer)\n",
        "\n",
        "    # Remove leading/trailing spaces\n",
        "    return answer.strip()\n",
        "\n",
        "while True:\n",
        "    user_query = input(\"You: \")\n",
        "\n",
        "    if \"exit\" in user_query.lower():\n",
        "        print(\"Thank you for using Fashion AI. Goodbye!\")\n",
        "        break\n",
        "\n",
        "    ai_response = chat_with_fashion_ai(user_query)\n",
        "\n",
        "\n",
        "    print(\"\\nAI Response:\\n\", ai_response)"
      ],
      "metadata": {
        "colab": {
          "base_uri": "https://localhost:8080/"
        },
        "id": "dXNPVkZU4g5t",
        "outputId": "a7a34460-534e-4c60-c239-80daaa52cca7"
      },
      "execution_count": 50,
      "outputs": [
        {
          "output_type": "stream",
          "name": "stdout",
          "text": [
            "You: I want a blue kurta set under 6000\n",
            "\n",
            "AI Response:\n",
            " Here are some of the suggestions I have:\n",
            "\n",
            "Product 1:\n",
            "- Product Name: Prakhya Women Blue Embroidered Kurta with Trousers & Dupatta\n",
            "- Product ID: 13259360\n",
            "- Brand: Prakhya\n",
            "- Description: Blue embroidered kurta with trousers. Blue straight calf length kurta, has a round neck, three-quarter sleeves, side slits. Blue Embroidered trousers, has elasticated waistband. Dupatta: 2 x 1 meters (length x width). The model (height 5'8\") is wearing a size S. Kurta fabric: viscose rayon. Bottom fabric: viscose rayon. Dupatta fabric: silk chiffon. Hand-wash.\n",
            "- Price: 4498.0\n",
            "- Image URL: http://assets.myntassets.com/assets/images/productimage/2020/12/16/7c2188e5-8443-4a77-add1-e03c1def6b301608111700911-1.jpg\n",
            "\n",
            "Product 2:\n",
            "- Product Name: HERE&NOW Women Blue Solid Kurta with Trousers\n",
            "- Product ID: 15886988\n",
            "- Brand: HERE&NOW\n",
            "- Description: Blue solid Kurta with Trousers. Kurta design: Solid, Straight shape, Regular style, Round neck, Three-quarter regular sleeves, 2 pockets, Calf length with straight hem, Viscose rayon machine weave fabric. Trousers design: Solid Trousers, Partially elasticated waistband, Zip closure. The model (height 5'8) is wearing a size S. 100% Viscose. Machine Wash.\n",
            "- Price: 2399.0\n",
            "- Image URL: http://assets.myntassets.com/assets/images/15886988/2022/1/19/aaa4f8c6-8f0e-45df-acfc-8ef671eb28611642597697384-HERENOW-Women-Kurta-Sets-4281642597696767-1.jpg\n",
            "\n",
            "Product 3:\n",
            "- Product Name: W Women Blue & Black Printed Straight Kurta\n",
            "- Product ID: 11369528\n",
            "- Brand: W\n",
            "- Description: Blue and Black printed straight kurta, has a round neck, three-quarter sleeves, straight hem, and side slits. Material: Viscose rayon (Liva). Hand Wash. The model (height 5'8\") is wearing a size S.\n",
            "- Price: 1599.0\n",
            "- Image URL: http://assets.myntassets.com/assets/images/11369528/2020/12/15/e6db4b6a-6d22-437c-9795-61c7cd27ef751608032794452-W-Women-Blue--Black-Printed-Straight-Kurta-6401608032792482-1.jpg\n",
            "You: exit\n",
            "Thank you for using Fashion AI. Goodbye!\n"
          ]
        }
      ]
    }
  ]
}